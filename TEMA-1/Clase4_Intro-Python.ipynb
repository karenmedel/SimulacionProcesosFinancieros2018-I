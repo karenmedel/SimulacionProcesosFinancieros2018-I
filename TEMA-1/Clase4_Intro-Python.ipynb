{
 "cells": [
  {
   "cell_type": "markdown",
   "metadata": {},
   "source": [
    "\n",
    "<img style=\"float: right; margin: 0px 0px 15px 15px;\" src=\"http://quantlabs.net/blog/wp-content/uploads/2015/11/pythonlogo.jpg\" width=\"200px\" height=\"100px\" />\n",
    "\n",
    "# Introducción a python \n",
    "- Sintaxis básicas de [Pyhton](https://www.tutorialspoint.com/python/python_basic_syntax.htm.)\n",
    "- Tipos de variables de Python\n"
   ]
  },
  {
   "cell_type": "markdown",
   "metadata": {},
   "source": [
    "## Palabras reservadas por python (no ultilizar estas palabras para nombrar alguna variable)\n",
    "![imagen.png](attachment:imagen.png)"
   ]
  },
  {
   "cell_type": "markdown",
   "metadata": {},
   "source": [
    "## Lineas y sangría\n",
    "Python no crea bloques de código abriendo y cerrando llaves ({}) o paréntesis () o corchetes [], para indicar que cierta sintaxis como puede ser una función (`function`), un ciclo (`for, while, if,` etc) ha empezado y ha terminado. Para indicarle a python que un bloque de código comienzan y termina se tienen en cuenta la sangría desde que se escribe algunas de las \"plabras reservadas\", como por ejemplo\n"
   ]
  },
  {
   "cell_type": "code",
   "execution_count": 6,
   "metadata": {
    "collapsed": false
   },
   "outputs": [
    {
     "name": "stdout",
     "output_type": "stream",
     "text": [
      "Ingrese el valor de la variable condición -> 3\n",
      "El usuario ingresó un valor de condición diferente a 1 y 2\n"
     ]
    }
   ],
   "source": [
    "condicion = int(input(\"Ingrese el valor de la variable condición -> \"))\n",
    "if condicion == 1:\n",
    "    print(\"El usuario ingresó que condiciones es igual a %d\" % (condicion) )\n",
    "elif condicion == 2:\n",
    "    print(\"El usuario ingresó que condiciones es igual a 2\" )\n",
    "else:\n",
    "    print(\"El usuario ingresó un valor de condición diferente a 1 y 2\")"
   ]
  },
  {
   "cell_type": "markdown",
   "metadata": {},
   "source": [
    "## Comillas en python"
   ]
  },
  {
   "cell_type": "code",
   "execution_count": 8,
   "metadata": {
    "collapsed": false
   },
   "outputs": [
    {
     "name": "stdout",
     "output_type": "stream",
     "text": [
      "palabra\n",
      "La frase completa\n",
      " Este es un párrafo de varias \n",
      "lineas hechas como ejemplo para el curso de simulación de procesos financieros\n"
     ]
    }
   ],
   "source": [
    "Una_palabra = 'palabra'                  # este es el comentario de esta línea\n",
    "Una_frase = \"La frase completa\"\n",
    "Un_párrafo = \"\"\" Este es un párrafo de varias \n",
    "lineas hechas como ejemplo para el curso de simulación de procesos financieros\"\"\"\n",
    "print(Una_palabra)\n",
    "print(Una_frase)\n",
    "print(Un_párrafo)"
   ]
  },
  {
   "cell_type": "markdown",
   "metadata": {},
   "source": [
    "## Variables de python\n",
    "Los tipos de variables con los que trabaja python son:\n",
    "- Números\n",
    "     - Enteros (int)\n",
    "     - Enteros largos (long)- se pueden representar números en `octal` y `hexadecimal`\n",
    "     - Decimales (flotantes - float)\n",
    "     - Complejos \n",
    "- Texto (string)"
   ]
  },
  {
   "cell_type": "code",
   "execution_count": 18,
   "metadata": {
    "collapsed": false
   },
   "outputs": [
    {
     "name": "stdout",
     "output_type": "stream",
     "text": [
      "5 , 5.5 , Curso Simulación , 7 , 1e-05 , carlos , (4+5j)\n"
     ]
    }
   ],
   "source": [
    "entero = 5\n",
    "flotante = 5.5\n",
    "text = \"Curso Simulación\"\n",
    "a,b,c,d = 7, 1e-5, \"carlos\", 4+5j\n",
    "print(entero,',',flotante,',',text,',',a,',',b,',',c,',',d)"
   ]
  },
  {
   "cell_type": "markdown",
   "metadata": {},
   "source": [
    "### Tipos estándar de datos en python\n",
    "Python tiene cinco tipos estándar de datos, para almacenar datos en la memoria:\n",
    "- <font color = red> Números </font>\n",
    "- Texto \n",
    "- Listas\n",
    "- Tuplas\n",
    "- Diccionarios"
   ]
  },
  {
   "cell_type": "markdown",
   "metadata": {},
   "source": [
    "- ### Texto\n",
    "    Las variables que tienen almacenados texto se puede acceder a alguna posición de la variable en particular, haciendo uso de ([] y [:]) para indicar los indices que empiezan desde 0 para el comienzo de la palabra y trabajando en sentido contrario -1 para el último término. Observemos un ejemplo: "
   ]
  },
  {
   "cell_type": "code",
   "execution_count": 26,
   "metadata": {
    "collapsed": false
   },
   "outputs": [
    {
     "name": "stdout",
     "output_type": "stream",
     "text": [
      "Hola grupo estamos probando\n",
      " gru\n",
      "po estamos proban\n",
      "mos probando\n",
      "Hola grupo estamos probando -Adición de palabras\n",
      "Hola grupo estamos probandoHola grupo estamos probando\n"
     ]
    }
   ],
   "source": [
    "d =\"Hola grupo estamos probando\"\n",
    "print(d)\n",
    "print(d[4:8])\n",
    "print(d[8:-2])\n",
    "print(d[15:])\n",
    "print(d+ \" -Adición de palabras\")\n",
    "print(d*2)"
   ]
  },
  {
   "cell_type": "markdown",
   "metadata": {},
   "source": [
    "- ### Listas\n",
    "\n",
    "    Las listas son herramientas que almacenan tipos de datos separados por comas (\",\") y encerrados dentro de un corchete ([]). Los items dentro de una lista pueden ser de diferente tipo. De igual forma que los textos también se puede acceder a una posición en particular de las listas usando ([],[:]), duplicar la lista usando ('*') y el operador ('+') para la concatenación de listas"
   ]
  },
  {
   "cell_type": "code",
   "execution_count": 14,
   "metadata": {
    "collapsed": false
   },
   "outputs": [
    {
     "name": "stdout",
     "output_type": "stream",
     "text": [
      "['Palabra', 'una frase', 40, 5.5, (4+4j), [1, 2, 3]]\n",
      "1\n",
      "[5.5, (4+4j), [1, 2, 3]]\n",
      "[(4+4j)]\n",
      "1\n",
      "[1, 'una frase', 40, 5.5, (4+4j), [1, 2, 3], 'concatenacion', 6, 7]\n",
      "[1, 'una frase', 40, 5.5, (4+4j), [1, 2, 3], 1, 'una frase', 40, 5.5, (4+4j), [1, 2, 3]]\n"
     ]
    }
   ],
   "source": [
    "lista1 = ['Palabra', \"una frase\", 40, 5.5,4+4j,[1,2,3]]\n",
    "print(lista1)\n",
    "lista1[0]=1                 # se puede modificar el contenido de una lista\n",
    "print(lista1[0])\n",
    "print(lista1[3:])\n",
    "print(lista1[4:-1])\n",
    "print(lista1[-1][0])\n",
    "print(lista1 + [\"concatenacion\",6,7])\n",
    "print(lista1*2)"
   ]
  },
  {
   "cell_type": "markdown",
   "metadata": {},
   "source": [
    "> Operaciones más habituales con listas en Python\n",
    "\n",
    "> Las operaciones más habituales que se realizan en Python son las siguientes:\n",
    ">   - `lista[i]`: Devuelve el elemento que está en la posición i de la lista.\n",
    ">   - `lista.pop(i)`: Devuelve el elemento en la posición i de una lista y luego lo borra.\n",
    ">   - `lista.append(elemento)`: Añade elemento al final de la lista.\n",
    ">   - `lista.insert(i, elemento)`: Inserta elemento en la posición i.\n",
    ">   - `lista.extend(lista2)`: Fusiona lista con lista2.\n",
    ">   - `lista.remove(elemento)`: Elimina la primera vez que aparece elemento.\n"
   ]
  },
  {
   "cell_type": "markdown",
   "metadata": {},
   "source": [
    "> <font color=blue> **Ejercicio: Probar el funcionamiento de cada una de estas funciones creando tu propia lista y modificándola **"
   ]
  },
  {
   "cell_type": "markdown",
   "metadata": {},
   "source": [
    "- ### Tuplas\n",
    "\n",
    "    Las tuplas son otras secuencia de datos simulares a las listas. Una tupla consiste de número de valores separados por comas (',') y deben de ser escritas dentro de paréntesis ('()'). A diferencia de las listas, las tuplas no pueden ser actualizadas (modificadas). Las tuplas entonces se pueden considerar como un objeto ** únicamente de lectura**. Las mismas funciones que cumplen las listas estan disponibles para las tuplas (`*,+,[]`)."
   ]
  },
  {
   "cell_type": "code",
   "execution_count": 8,
   "metadata": {
    "collapsed": false
   },
   "outputs": [
    {
     "name": "stdout",
     "output_type": "stream",
     "text": [
      "('hola grupo', 'finanzas', 3, 5.5, 64, [1, 2])\n",
      "hola grupo\n",
      "(3, 5.5, 64, [1, 2])\n",
      "('hola grupo', 'finanzas', 3, 5.5, 64, [1, 2], 'hola grupo', 'finanzas', 3, 5.5, 64, [1, 2])\n",
      "('hola grupo', 'finanzas', 3, 5.5, 64, [1, 2], 1e-05, 'carlos')\n"
     ]
    }
   ],
   "source": [
    "tupla = (\"hola grupo\", 'finanzas', 3,5.5,0x40,[1,2])\n",
    "print(tupla)\n",
    "print(tupla[0])\n",
    "print(tupla[2:])\n",
    "print(tupla*2)\n",
    "print(tupla+(1e-5,'carlos'))"
   ]
  },
  {
   "cell_type": "code",
   "execution_count": 10,
   "metadata": {
    "collapsed": false,
    "scrolled": true
   },
   "outputs": [
    {
     "ename": "TypeError",
     "evalue": "'tuple' object does not support item assignment",
     "output_type": "error",
     "traceback": [
      "\u001b[1;31m---------------------------------------------------------------------------\u001b[0m",
      "\u001b[1;31mTypeError\u001b[0m                                 Traceback (most recent call last)",
      "\u001b[1;32m<ipython-input-10-6522fc1468f8>\u001b[0m in \u001b[0;36m<module>\u001b[1;34m()\u001b[0m\n\u001b[0;32m      1\u001b[0m \u001b[1;31m## Sintaxis inválidas\u001b[0m\u001b[1;33m\u001b[0m\u001b[1;33m\u001b[0m\u001b[0m\n\u001b[1;32m----> 2\u001b[1;33m \u001b[0mtupla\u001b[0m\u001b[1;33m[\u001b[0m\u001b[1;36m0\u001b[0m\u001b[1;33m]\u001b[0m\u001b[1;33m=\u001b[0m \u001b[1;36m1\u001b[0m\u001b[1;33m\u001b[0m\u001b[0m\n\u001b[0m\u001b[0;32m      3\u001b[0m \u001b[0mprint\u001b[0m\u001b[1;33m(\u001b[0m\u001b[0mtupla\u001b[0m\u001b[1;33m)\u001b[0m\u001b[1;33m\u001b[0m\u001b[0m\n",
      "\u001b[1;31mTypeError\u001b[0m: 'tuple' object does not support item assignment"
     ]
    }
   ],
   "source": [
    "## Sintaxis inválida -> 1\n",
    "tupla[0]= 1\n",
    "print(tupla)"
   ]
  },
  {
   "cell_type": "code",
   "execution_count": 15,
   "metadata": {
    "collapsed": false,
    "scrolled": true
   },
   "outputs": [
    {
     "ename": "TypeError",
     "evalue": "can only concatenate tuple (not \"list\") to tuple",
     "output_type": "error",
     "traceback": [
      "\u001b[1;31m---------------------------------------------------------------------------\u001b[0m",
      "\u001b[1;31mTypeError\u001b[0m                                 Traceback (most recent call last)",
      "\u001b[1;32m<ipython-input-15-be95dcc3d358>\u001b[0m in \u001b[0;36m<module>\u001b[1;34m()\u001b[0m\n\u001b[0;32m      1\u001b[0m \u001b[1;31m## Sintaxis inválida -> 2\u001b[0m\u001b[1;33m\u001b[0m\u001b[1;33m\u001b[0m\u001b[0m\n\u001b[1;32m----> 2\u001b[1;33m \u001b[0mprint\u001b[0m\u001b[1;33m(\u001b[0m\u001b[0mtupla\u001b[0m\u001b[1;33m+\u001b[0m\u001b[1;33m[\u001b[0m\u001b[1;36m1\u001b[0m\u001b[1;33m,\u001b[0m\u001b[1;36m2\u001b[0m\u001b[1;33m]\u001b[0m\u001b[1;33m)\u001b[0m\u001b[1;33m\u001b[0m\u001b[0m\n\u001b[0m\u001b[0;32m      3\u001b[0m \u001b[1;31m# print(tupla+1)\u001b[0m\u001b[1;33m\u001b[0m\u001b[1;33m\u001b[0m\u001b[0m\n",
      "\u001b[1;31mTypeError\u001b[0m: can only concatenate tuple (not \"list\") to tuple"
     ]
    }
   ],
   "source": [
    "## Sintaxis inválida -> 2\n",
    "print(tupla+[1,2])\n",
    "# print(tupla+1)"
   ]
  },
  {
   "cell_type": "markdown",
   "metadata": {},
   "source": [
    "- ## Diccionarios\n",
    "    Como sucede con un diccionario convencional, un diccionario en Python es una palabra que tiene asociado algo. Al contrario de lo que sucedía en las listas, los diccionarios no tienen orden.\n",
    "\n",
    "    Se crean poniendo sus elementos entre llaves {“a”:”Alicante”, “b”:”Barcelona”,>>>}. Se denominan keys a las “palabras” y values a las “definiciones”.  Lógicamente, no puede haber dos keys iguales, aunque sí dos values iguales."
   ]
  },
  {
   "cell_type": "code",
   "execution_count": 22,
   "metadata": {
    "collapsed": false
   },
   "outputs": [
    {
     "name": "stdout",
     "output_type": "stream",
     "text": [
      "{'Piloto 1': 'Fernando Alonso', 'Piloto 2': 'Kimi Raikkonen', 'Piloto 3': 'Felipe Massa'}\n",
      "Fernando Alonso\n",
      "Kimi Raikkonen\n"
     ]
    }
   ],
   "source": [
    "diccionario={'Piloto 1':\"Fernando Alonso\", 'Piloto 2':'Kimi Raikkonen', 'Piloto 3':'Felipe Massa'}\n",
    "print(diccionario)\n",
    "print(diccionario['Piloto 1'])\n",
    "print(diccionario['Piloto 2'])"
   ]
  },
  {
   "cell_type": "markdown",
   "metadata": {},
   "source": [
    "> ### Operaciones más habituales con diccionarios en Python\n",
    "> Es similar a las listas, con el matiz de que dado que los diccionarios no tienen orden, no tienen funciones en las que se tenga en cuenta la posición.\n",
    ">    - `diccionario.get(‘key’)`: Devuelve el valor que corresponde con la key introducida.\n",
    ">    - `diccionario.pop(‘key’)`: Devuelve el valor que corresponde con la key introducida, y luego borra la key y el valor.\n",
    ">    - `“key” in diccionario`: Devuelve verdadero (True) o falso (False) si la key (no los valores) existe en el diccionario.\n",
    ">    - `“definicion” in diccionario.values()`: Devuelve verdadero (True) o falso (False) si definición existe en el diccionario (no como key).\n",
    ">    - `diccionario.keys()`: Devuelve todas las palabras `keys` del diccionario. \n",
    ">    - `diccionario.values()`: Devuelve todos los `values` de todas las palabras `keys` del diccionario.\n",
    "\n",
    ">Poniendo todo esto en un ejemplo:"
   ]
  },
  {
   "cell_type": "markdown",
   "metadata": {},
   "source": [
    "> <font color=blue> **Ejercicio: Probar el funcionamiento de cada una de estas funciones creando tu propia diccionario y modificándolo **"
   ]
  },
  {
   "cell_type": "markdown",
   "metadata": {},
   "source": [
    "## Operadores básicos\n",
    "\n",
    "- ### ** Tipos de operadores**\n",
    "Python soporta los siguientes tipos de operadores:\n",
    "    - Operadores aritméticos\n",
    "    - Operadores de comparación (relaciones)\n",
    "    - Operadores de asignación\n",
    "    - Operadores lógicos\n",
    "    - Operadores bit a bit\n",
    "    - Operadores de miembros (membership)\n",
    "    - Operadores de indentidad"
   ]
  },
  {
   "cell_type": "markdown",
   "metadata": {},
   "source": [
    "- ### Operadores aritméticos\n",
    "![imagen.png](attachment:imagen.png)"
   ]
  },
  {
   "cell_type": "markdown",
   "metadata": {},
   "source": [
    "- ### Operadores de comparación (relaciones)\n",
    "![imagen.png](attachment:imagen.png)"
   ]
  },
  {
   "cell_type": "markdown",
   "metadata": {},
   "source": [
    "- ### Operadores de asignación \n",
    "![imagen.png](attachment:imagen.png)"
   ]
  }
 ],
 "metadata": {
  "anaconda-cloud": {},
  "kernelspec": {
   "display_name": "Python [default]",
   "language": "python",
   "name": "python3"
  },
  "language_info": {
   "codemirror_mode": {
    "name": "ipython",
    "version": 3
   },
   "file_extension": ".py",
   "mimetype": "text/x-python",
   "name": "python",
   "nbconvert_exporter": "python",
   "pygments_lexer": "ipython3",
   "version": "3.5.2"
  }
 },
 "nbformat": 4,
 "nbformat_minor": 2
}
